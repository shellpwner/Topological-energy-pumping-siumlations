{
 "cells": [
  {
   "cell_type": "markdown",
   "id": "ef1a8d86-3ef4-445b-ba04-f45476413a12",
   "metadata": {
    "editable": true,
    "slideshow": {
     "slide_type": ""
    },
    "tags": []
   },
   "source": [
    "<h2 style=\"background-color:orange;color:black\">Evolution</h2>\n",
    "This notebook is aimed at exploring time evolution. Not the Darwinian kind, the quantum kind. <br>\n",
    "The time evolution operator in quantum mechanics is given by,\n",
    "\\begin{align}\n",
    "\\hat U(0,t) = \\mathcal T \\exp\\left(-\\frac{i}{\\hbar}\\int_0^t H(\\tau)d\\tau\\right)\n",
    "\\end{align}\n",
    "In the Schrodinger picure, the operator acts on a state to evolve it from time $0$ to time $t$. In the Heisenberg picture, the states are constant in time, while the operators evolve in time. The problem with this operator is that it involves time ordred integrals, which is not easy numerically. We can look at two approaches:<br>\n",
    "<li>Calculate time ordered expnentials using Magnus expansion.</li> \n",
    "<li>Dyson series<li>\n",
    "<li>Abandon evolution operator and solve the Schrodinger equation using Crank-Nicolson or RK4</li> \n",
    "<h3>Magnus expansion</h3>    \n",
    "\\begin{align}\n",
    "    U(t) &= \\exp\\left( \\Omega(t) \\right) \\\\\n",
    "    \\Omega(t) &= \\Omega_1(t) + \\Omega_2(t) + \\Omega_3(t) + \\cdots \\\\\n",
    "    \\Omega_1(t) &= -i \\int_0^t H(\\tau_1)\\, d\\tau_1 \\\\\n",
    "    \\Omega_2(t) &= -\\frac{1}{2} \\int_0^t d\\tau_1 \\int_0^{\\tau_1} d\\tau_2 \\, [H(\\tau_1), H(\\tau_2)] \\\\\n",
    "    \\Omega_3(t) &= \\frac{i}{6} \\int_0^t d\\tau_1 \\int_0^{\\tau_1} d\\tau_2 \\int_0^{\\tau_2} d\\tau_3 \\, \\Big( [H(\\tau_1),[H(\\tau_2),H(\\tau_3)]] + [H(\\tau_3), [H(\\tau_2), H(\\tau_1)]] \\Big)\n",
    "\\end{align}\n",
    "\n",
    "<h3>RK4 method</h3>\n",
    "To solve $\\frac{dy}{dx} = f(x, y)$:\n",
    "\\begin{align}\n",
    "    y_{i+1} &= y_i + \\frac{1}{6}(k_1 + 2k_2 +2k_3 + k_4)h\\\\\n",
    "    k_1 &= f(x_i, y_i)\\\\\n",
    "    k_2 &= f(x_i + \\frac{1}{2}h, y_i + \\frac{1}{2}k_1h)\\\\\n",
    "    k_3 &= f(x_i + \\frac{1}{2}h, y_i + \\frac{1}{2}k_2h)\\\\\n",
    "    k_4 &= f(x_i + h, y_i + k_3h)\n",
    "\\end{align}\n",
    "<h3>Dyson series</h3>\n",
    "\\begin{align}\n",
    "    U(t, t_0) = \\mathbb I + \\sum_{n=1}^\\infty (-\\frac{i}{\\hbar})^n \\int_{t_0}^t dt_1 \\int_{t_0}^{t_1}dt_2\\dots\\int_{t_0}^{t_{n-1}}dt_n H(t_1)H(t_2)H(t_3) \\dots H(t_n)\n",
    "\\end{align}\n",
    "Let's try it out!"
   ]
  },
  {
   "cell_type": "markdown",
   "id": "ddc7e96e-4c88-4050-abce-c531c91cfebe",
   "metadata": {},
   "source": [
    "<H3>Dyson Series</H3>"
   ]
  },
  {
   "cell_type": "code",
   "execution_count": 6,
   "id": "48954660-31ae-4801-b3b1-12f609d826b9",
   "metadata": {},
   "outputs": [],
   "source": [
    "import numpy as np\n",
    "from numpy import linalg as la\n",
    "import matplotlib.pyplot as plt\n",
    "from scipy.linalg import expm\n",
    "import scipy.integrate as integrate"
   ]
  },
  {
   "cell_type": "code",
   "execution_count": 15,
   "id": "3c3b6f88-8d11-4469-8574-d59ba2c733d2",
   "metadata": {},
   "outputs": [],
   "source": [
    "def simpson1(f, a, b):\n",
    "    res = f(a) + f(b) + 4*f((a+b)/2)\n",
    "    return (b-a)*res/6\n",
    "def simpson2(g, a, b, c, d): # a and b are x limits. c and d are y limits\n",
    "    hx, hy = b - a, d - c\n",
    "    t1 = g(a, c) + g(b, c) + g(a, d) + g(b, d)\n",
    "    t2 = g((a+b)/2, c) + g((a+b)/2, d) + g(a, (c+d)/2) + g(b, (c+d)/2)\n",
    "    t3 = g((a+b)/2, (c+d)/2)\n",
    "    return hx*hy*(t1 + 4*t2 + 16*t3)/36    "
   ]
  },
  {
   "cell_type": "code",
   "execution_count": 17,
   "id": "1248c66a-92d8-4155-aa47-94cf243a3c13",
   "metadata": {},
   "outputs": [],
   "source": [
    "sigmax = np.matrix([[0, 1],[1, 0]], dtype=complex)\n",
    "sigmay = np.matrix([[0, -1j],[1j, 0]], dtype=complex)\n",
    "sigmaz = np.matrix([[1, 0j],[0, -1]], dtype=complex)\n",
    "w1 = 0.1\n",
    "g = np.sqrt(2)\n",
    "w2 = g*w1\n",
    "m = 1\n",
    "phi1 = np.pi/10\n",
    "phi2 = 0\n",
    "\n",
    "def H(w1, phi1, w2, phi2, m, t):\n",
    "    return (np.sin(w1*t + phi1)*sigmax + np.sin(w2*t + phi2)*sigmay + (m - np.cos(w1*t + phi1) - np.cos(w2*t + phi2))*sigmaz)\n"
   ]
  },
  {
   "cell_type": "code",
   "execution_count": 19,
   "id": "77be53de-3889-4fc7-b008-b126e993a0b5",
   "metadata": {},
   "outputs": [],
   "source": [
    "h1 = lambda t: H(w1, phi1, w2, phi2, m, t)\n",
    "h2 = lambda t1, t2: H(w1, phi1, w2, phi2, m, t1) @ H(w1, phi1, w2, phi2, m, t2)\n",
    "h0 = np.matrix(np.eye(2, dtype=complex))\n",
    "\n",
    "def U(t):\n",
    "    t1 = simpson1(h1, 0, t)\n",
    "    t2 = simpson2(h2, 0, t, 0, t/3)\n",
    "    return h0 - (1j)*t1 - (1j)*t2"
   ]
  },
  {
   "cell_type": "markdown",
   "id": "4e5c5fb8-207f-49f0-a553-8368615572b4",
   "metadata": {},
   "source": [
    "Now that the evolution operator is defined using the dyson series (upto the second order), we proceed to the next step of using it in the quasi-energy derivation."
   ]
  },
  {
   "cell_type": "code",
   "execution_count": 24,
   "id": "f4fe6b51-e34a-49d2-9306-d1c4060de31b",
   "metadata": {},
   "outputs": [],
   "source": [
    "def eigv1(w1, phi1, w2, phi2, m, t):\n",
    "    d1 = np.sin(w1*t + phi1)\n",
    "    d2 = np.sin(w1*t + phi1)\n",
    "    d3 = (m - np.cos(w1*t + phi1) - np.cos(w2*t + phi2))\n",
    "    d = np.sqrt(d1**2 + d2**2 + d3**2)\n",
    "    return (1/(np.sqrt(2*d*(d+d3))))*np.matrix([[d1 - 1j * d2], [d + d3]])\n",
    "\n",
    "phi1vals = np.arange(-np.pi, 50*np.pi, 0.1)\n",
    "phi2 = 0\n",
    "phi1 = np.pi/10\n",
    "dt = 0.1\n",
    "\n",
    "e1_theta = []\n",
    "e2_theta = []\n",
    "for i in phi1vals:\n",
    "    u =  U(dt)\n",
    "    expE_i = eigv1(w1, i - w1*dt, w2, phi2 - w2*dt, m, 0).H @ u @  eigv1(w1, i, w2, phi2, m, 0)\n",
    "    e1_theta.append(np.angle(expE_i[0,0])/dt)\n",
    "    e2_theta.append(-np.angle(expE_i[0,0])/dt)"
   ]
  },
  {
   "cell_type": "code",
   "execution_count": 26,
   "id": "47087771-0f3c-45a5-a4aa-3dfdafe68343",
   "metadata": {},
   "outputs": [
    {
     "data": {
      "text/plain": [
       "[]"
      ]
     },
     "execution_count": 26,
     "metadata": {},
     "output_type": "execute_result"
    },
    {
     "data": {
      "image/png": "[encoded data removed]",
      "text/plain": [
       "<Figure size 640x480 with 1 Axes>"
      ]
     },
     "metadata": {},
     "output_type": "display_data"
    }
   ],
   "source": [
    "plt.plot(phi1vals, e1_theta)\n",
    "plt.plot(phi1vals, e2_theta)\n",
    "plt.legend(['phi1vals', 'phi2vals'])\n",
    "plt.grid()\n",
    "plt.plot()"
   ]
  },
  {
   "cell_type": "markdown",
   "id": "7dfe3374-a186-4017-9217-2d6bac33e3d7",
   "metadata": {},
   "source": [
    "<H2>RK4</H2>"
   ]
  },
  {
   "cell_type": "code",
   "execution_count": 1,
   "id": "c5559a87-0e01-4331-8139-7acb5005641d",
   "metadata": {},
   "outputs": [],
   "source": [
    "import numpy as np\n",
    "from numpy import linalg as la\n",
    "import matplotlib.pyplot as plt\n",
    "from scipy.linalg import expm\n",
    "import scipy.integrate as integrate\n",
    "\n",
    "sigmax = np.matrix([[0, 1],[1, 0]])\n",
    "sigmay = np.matrix([[0, -1j],[1j, 0]])\n",
    "sigmaz = np.matrix([[1, 0j],[0, -1]])\n",
    "\n",
    "\n",
    "def H(w1, phi1, w2, phi2, m, t):\n",
    "    return (np.sin(w1*t + phi1)*sigmax + np.sin(w2*t + phi2)*sigmay + (m - np.cos(w1*t + phi1) - np.cos(w2*t + phi2))*sigmaz)\n",
    "\n",
    "def eigv1(w1, phi1, w2, phi2, m, t):\n",
    "    d1 = np.sin(w1*t + phi1)\n",
    "    d2 = np.sin(w1*t + phi1)\n",
    "    d3 = (m - np.cos(w1*t + phi1) - np.cos(w2*t + phi2))\n",
    "    d = np.sqrt(d1**2 + d2**2 + d3**2)\n",
    "    return (1/(np.sqrt(2*d*(d+d3))))*np.matrix([[d1 - 1j * d2], [d + d3]])\n",
    "    \n",
    "def rk4step(t0, h):\n",
    "    v = eigv1(w1, phi1, w2, phi2, m, t0)\n",
    "    k1 = -1j * H(w1, phi1, w2, phi2, m, t0) @ v\n",
    "    k2 = -1j * H(w1, phi1, w2, phi2, m, t0 + h/2) @ (v + k1*h/2)\n",
    "    k3 = -1j * H(w1, phi1, w2, phi2, m, t0 + h/2) @(v + k2*h/2)\n",
    "    k4 = -1j * H(w1, phi1, w2, phi2, m, t0 + h) @ (v + k3*h)\n",
    "    return v + (h/6)*(k1 + 2*k2 + 2*k3 + k4)"
   ]
  },
  {
   "cell_type": "code",
   "execution_count": 2,
   "id": "46012996-38c4-417f-b2f7-35368f95abf1",
   "metadata": {},
   "outputs": [],
   "source": [
    "w1 = 0.1\n",
    "g = np.sqrt(2)\n",
    "w2 = g*w1\n",
    "m = 1\n",
    "phi1 = np.pi/10\n",
    "phi2 = 0"
   ]
  },
  {
   "cell_type": "code",
   "execution_count": 37,
   "id": "31895fba-956e-477a-9b55-a22b840f2bd8",
   "metadata": {},
   "outputs": [],
   "source": [
    "h = 0.1\n",
    "ti = 0\n",
    "band1 = []\n",
    "band2 = []\n",
    "tvals = []\n",
    "while(ti<1e4):\n",
    "    v1 = eigv1(w1, phi1, w2, phi2, m, ti)\n",
    "    v2 = np.conjugate(v1)\n",
    "    e1 = v1.H @ H(w1, phi1, w2, phi2, m, ti) @ v1\n",
    "    e2 = v2.H @ H(w1, phi1, w2, phi2, m, ti) @ v2\n",
    "    band1.append(np.real(e1[0,0]))\n",
    "    band2.append(np.real(e2[0,0]))\n",
    "    tvals.append(ti)\n",
    "    ti = ti + h"
   ]
  },
  {
   "cell_type": "code",
   "execution_count": null,
   "id": "be3136b6-c114-4c26-8151-8ae63cbcacba",
   "metadata": {},
   "outputs": [],
   "source": []
  }
 ],
 "metadata": {
  "kernelspec": {
   "display_name": "Python 3 (ipykernel)",
   "language": "python",
   "name": "python3"
  },
  "language_info": {
   "codemirror_mode": {
    "name": "ipython",
    "version": 3
   },
   "file_extension": ".py",
   "mimetype": "text/x-python",
   "name": "python",
   "nbconvert_exporter": "python",
   "pygments_lexer": "ipython3",
   "version": "3.10.12"
  }
 },
 "nbformat": 4,
 "nbformat_minor": 5
}
